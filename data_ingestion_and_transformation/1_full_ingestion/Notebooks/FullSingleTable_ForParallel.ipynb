{
    "cells": [
        {
            "cell_type": "code",
            "source": [
                "parquet_name = \"appInventory.parquet\"\n",
                "parquet_path = \"\""
            ],
            "outputs": [],
            "execution_count": null,
            "metadata": {
                "jupyter": {
                    "source_hidden": false,
                    "outputs_hidden": false
                },
                "nteract": {
                    "transient": {
                        "deleting": false
                    }
                },
                "tags": [
                    "parameters"
                ]
            },
            "id": "e417b0d5-cb63-4bb9-99ba-98ed6b3444be"
        },
        {
            "cell_type": "code",
            "source": [
                "table_name = parquet_name.split('.')[0]\n",
                "print(\"Creating table {table_name} from {file_name}\".format(table_name=table_name, file_name=parquet_name))\n",
                "current_table = spark.read.parquet(parquet_path)\n",
                "current_table.write.mode(\"overwrite\").format(\"delta\").saveAsTable(table_name)\n",
                "print(\"Table created\")\n"
            ],
            "outputs": [],
            "execution_count": null,
            "metadata": {},
            "id": "d0294c3c-9095-4c7d-9151-1190ab4ca5ba"
        }
    ],
    "metadata": {
        "language_info": {
            "name": "python"
        },
        "kernel_info": {
            "name": "synapse_pyspark"
        },
        "microsoft": {
            "language": "python",
            "ms_spell_check": {
                "ms_spell_check_language": "en"
            }
        },
        "widgets": {},
        "nteract": {
            "version": "nteract-front-end@1.0.0"
        },
        "spark_compute": {
            "compute_id": "/trident/default"
        },
        "dependencies": {
            "lakehouse": {
                "default_lakehouse": "",
                "default_lakehouse_name": "SilverLakehouse",
                "default_lakehouse_workspace_id": ""
            }
        }
    },
    "nbformat": 4,
    "nbformat_minor": 5
}