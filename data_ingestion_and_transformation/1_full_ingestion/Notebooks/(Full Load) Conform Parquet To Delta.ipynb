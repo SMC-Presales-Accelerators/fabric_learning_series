{
    "cells": [
        {
            "cell_type": "code",
            "execution_count": 1,
            "id": "1d91eaf2-dd0a-4fe2-a232-6c688b591c51",
            "metadata": {},
            "outputs": [],
            "source": [
                "from notebookutils import mssparkutils\n",
                "\n",
                "# Replace this with your directory name that you loaded to initially\n",
                "directory = 'Files/InitialLoad/'\n",
                "\n",
                "# This puts all the files in the directory listed above into a list we can iterate over\n",
                "parquet_files = mssparkutils.fs.ls(directory)\n",
                "\n",
                "# Here we loop through each file and load it to a delta table using the name of the file before the dot to name the table\n",
                "# This will overwrite the tables with the data that is read, make sure that is intended.\n",
                "\n",
                "p_notebooks = []\n",
                "\n",
                "for parquet in parquet_files:\n",
                "    table_name = parquet.name.split('.')[0]\n",
                "    notebook = {\n",
                "        \"name\": table_name,\n",
                "        \"path\": \"FullSingleTable_ForParallel\",\n",
                "        \"args\": {\n",
                "            \"parquet_name\": parquet.name,\n",
                "            \"parquet_path\": parquet.path\n",
                "        },\n",
                "    }\n",
                "    p_notebooks.append(notebook)\n",
                "\n",
                "notebooks = {\n",
                "    \"activities\": p_notebooks\n",
                "}\n",
                "\n",
                "mssparkutils.notebook.runMultiple(notebooks, {\"displayDAGViaGraphviz\": True})"
            ]
        }
    ],
    "metadata": {
        "dependencies": {
            "lakehouse": {
                "default_lakehouse": "761e3fb7-40cf-4daa-bfd7-c7fd519ee1d0",
                "default_lakehouse_name": "SilverLakehouse",
                "default_lakehouse_workspace_id": "",
                "known_lakehouses": []
            }
        },
        "kernel_info": {
            "name": "synapse_pyspark"
        },
        "kernelspec": {
            "display_name": "Synapse PySpark",
            "language": "Python",
            "name": "synapse_pyspark"
        },
        "language_info": {
            "name": "python"
        },
        "microsoft": {
            "language": "python",
            "ms_spell_check": {
                "ms_spell_check_language": "en"
            }
        },
        "nteract": {
            "version": "nteract-front-end@1.0.0"
        },
        "spark_compute": {
            "compute_id": "/trident/default"
        },
        "widgets": {}
    },
    "nbformat": 4,
    "nbformat_minor": 5
}
